{
 "cells": [
  {
   "cell_type": "markdown",
   "id": "118f22bf-1671-469b-a9ec-1370cb26a422",
   "metadata": {},
   "source": [
    "# Data Science Tools and Ecosystem\n",
    "\n"
   ]
  },
  {
   "cell_type": "markdown",
   "id": "59c499e3-fcb1-4100-965e-8c865118f601",
   "metadata": {},
   "source": [
    "In this notebook, Data Science Tools and Ecosystem are summarized.\n"
   ]
  },
  {
   "cell_type": "markdown",
   "id": "de94c93b-ff15-4ffa-a4e1-cc8d5c103042",
   "metadata": {},
   "source": [
    "Some of the popular languages that Data Scientists use are:\r\n",
    "1. Python\r\n",
    "2. R\r\n",
    "3. SQL\r\n",
    "4. Julia\r\n",
    "5. Java\r\n"
   ]
  },
  {
   "cell_type": "markdown",
   "id": "5dcd249f-3e55-4cbd-b49d-1901b4846421",
   "metadata": {},
   "source": [
    "Some of the commonly used libraries used by Data Scientists include:\r\n",
    "1. Pandas\r\n",
    "2. NumPy\r\n",
    "3. Matplotlib\r\n",
    "4. Scikit-learn\r\n",
    "5. TensorFlow\r\n"
   ]
  },
  {
   "cell_type": "markdown",
   "id": "5f84fbbe-dbb0-49fa-a4d9-8071cd0fe1e5",
   "metadata": {},
   "source": [
    "| Data Science Tools |\n",
    "| ------------------ |\n",
    "| Jupyter Notebook   |\n",
    "| RStudio            |\n",
    "| Apache Zeppelin    |\n"
   ]
  },
  {
   "cell_type": "markdown",
   "id": "e56fa1cc-ed7e-43d5-b840-0532bf82f589",
   "metadata": {},
   "source": [
    "### Below are a few examples of evaluating arithmetic expressions in Python.\n"
   ]
  },
  {
   "cell_type": "markdown",
   "id": "813ea9b6-0c0d-428a-acc7-dc7926ddd416",
   "metadata": {},
   "source": [
    "**Objectives:**\r\n",
    "- List popular languages for Data Science.\r\n",
    "- List commonly used libraries by Data Scientists.\r\n",
    "- Provide examples of evaluating arithmetic expressions in Python.\r\n",
    "- List open-source development tools used in Data Science.\r\n"
   ]
  },
  {
   "cell_type": "markdown",
   "id": "1e43b8f1-6f39-4416-b2cf-392d6ddec59a",
   "metadata": {},
   "source": [
    "## Author\n",
    "Abhiraj Choudharie\r\n"
   ]
  },
  {
   "cell_type": "code",
   "execution_count": null,
   "id": "2e9e1371-5a86-4349-ac9b-69355767c82b",
   "metadata": {},
   "outputs": [],
   "source": []
  }
 ],
 "metadata": {
  "kernelspec": {
   "display_name": "Python 3 (ipykernel)",
   "language": "python",
   "name": "python3"
  },
  "language_info": {
   "codemirror_mode": {
    "name": "ipython",
    "version": 3
   },
   "file_extension": ".py",
   "mimetype": "text/x-python",
   "name": "python",
   "nbconvert_exporter": "python",
   "pygments_lexer": "ipython3",
   "version": "3.11.7"
  }
 },
 "nbformat": 4,
 "nbformat_minor": 5
}
